{
 "cells": [
  {
   "cell_type": "markdown",
   "metadata": {},
   "source": [
    "\n",
    "<h2 style=\"color:red\"> This file is deprecated. Please look at ActivityNet-Release1.3.Proposals.ipynb notebook</h2>\n",
    "\n",
    "\n",
    "# ActivityNet Challenge Agnostic Temporal Proposals\n",
    "This notebook is intended as demo on how to use the temporal proposals provided for the ActivityNet Challenge CVPR 2016. Additionally, recall performance is reported."
   ]
  },
  {
   "cell_type": "code",
   "execution_count": 1,
   "metadata": {
    "collapsed": true
   },
   "outputs": [],
   "source": [
    "import json\n",
    "\n",
    "import h5py\n",
    "import matplotlib.pyplot as plt\n",
    "import numpy as np\n",
    "import pandas as pd\n",
    "\n",
    "%matplotlib inline"
   ]
  },
  {
   "cell_type": "markdown",
   "metadata": {},
   "source": [
    "Load annotations for validation subset in a Pandas Data Frame."
   ]
  },
  {
   "cell_type": "code",
   "execution_count": 2,
   "metadata": {
    "collapsed": true
   },
   "outputs": [],
   "source": [
    "# Modify this paths\n",
    "ANNOTATION_FILE = 'activity_net.v1-3.min.json'\n",
    "PROPOSALS_FILENAME = 'activitynet_v1-3_proposals.hdf5'\n",
    "SUBSET = 'validation'"
   ]
  },
  {
   "cell_type": "code",
   "execution_count": 3,
   "metadata": {
    "collapsed": false
   },
   "outputs": [],
   "source": [
    "# Read json file containing the annotations\n",
    "with open(ANNOTATION_FILE, 'r') as fobj:\n",
    "    data = json.load(fobj)['database']\n",
    "\n",
    "# Parsing and looking for agnostic segments of an intended subset.\n",
    "video_id_fmt = 'v_{}'\n",
    "gt_s_init, gt_s_end, video_id = [], [], []\n",
    "for vid, vitem in data.iteritems():\n",
    "    if vitem['subset'] != SUBSET:\n",
    "        continue\n",
    "    for ann in vitem['annotations']:\n",
    "        gt_s_init.append(ann['segment'][0])\n",
    "        gt_s_end.append(ann['segment'][1])\n",
    "        video_id.append(video_id_fmt.format(vid))\n",
    "# Creates ground truth data frame.\n",
    "ground_truth_df = pd.DataFrame({'s-init': gt_s_init, \n",
    "                                's-end': gt_s_end,\n",
    "                                'video-id': video_id})"
   ]
  },
  {
   "cell_type": "markdown",
   "metadata": {},
   "source": [
    "Load temporal proposals in a Pandas Data Frame."
   ]
  },
  {
   "cell_type": "code",
   "execution_count": 4,
   "metadata": {
    "collapsed": false
   },
   "outputs": [
    {
     "name": "stdout",
     "output_type": "stream",
     "text": [
      "Average number of proposals: 89.6140885099\n"
     ]
    }
   ],
   "source": [
    "# Looking for videos in the subset\n",
    "intended_videos = []\n",
    "for vid, vitem in data.iteritems():\n",
    "    if vitem['subset'] == SUBSET:\n",
    "        intended_videos.append('v_{}'.format(vid))\n",
    "\n",
    "# Reading proposals from HDF5 file.\n",
    "s_init, s_end, score, video_id = [], [], [], []\n",
    "fobj = h5py.File(PROPOSALS_FILENAME, 'r')\n",
    "for vid in fobj.keys():\n",
    "    if vid not in intended_videos:\n",
    "        continue\n",
    "    s_init.extend(fobj[vid]['segment-init'].value.tolist())\n",
    "    s_end.extend(fobj[vid]['segment-end'].value.tolist())\n",
    "    score.extend(fobj[vid]['score'].value.tolist())\n",
    "    video_id.extend(np.repeat(vid, fobj[vid]['segment-init'].value.size).tolist())\n",
    "fobj.close()\n",
    "proposals_df = pd.DataFrame({'s-init': s_init, \n",
    "                             's-end': s_end, \n",
    "                             'score': score,\n",
    "                             'video-id': video_id})\n",
    "print 'Average number of proposals: {}'.format(proposals_df.shape[0] / float(len(intended_videos)))"
   ]
  },
  {
   "cell_type": "markdown",
   "metadata": {},
   "source": [
    "Subrutines to compute temporal IoU and wrapper for recall"
   ]
  },
  {
   "cell_type": "code",
   "execution_count": 5,
   "metadata": {
    "collapsed": true
   },
   "outputs": [],
   "source": [
    "def segment_iou(target_segments, test_segments):\n",
    "    \"\"\"Compute intersection over union btw segments\n",
    "    Parameters\n",
    "    ----------\n",
    "    target_segments : ndarray\n",
    "        2-dim array in format [m x 2:=[init, end]]\n",
    "    test_segments : ndarray\n",
    "        2-dim array in format [n x 2:=[init, end]]\n",
    "    Outputs\n",
    "    -------\n",
    "    iou : ndarray\n",
    "        2-dim array [m x n] with IOU ratio.\n",
    "    Note: It assumes that target-segments are more scarce that test-segments\n",
    "    \"\"\"\n",
    "    if target_segments.ndim != 2 or test_segments.ndim != 2:\n",
    "        raise ValueError('Dimension of arguments is incorrect')\n",
    "\n",
    "    m, n = target_segments.shape[0], test_segments.shape[0]\n",
    "    iou = np.empty((m, n))\n",
    "    for i in xrange(m):\n",
    "        tt1 = np.maximum(target_segments[i, 0], test_segments[:, 0])\n",
    "        tt2 = np.minimum(target_segments[i, 1], test_segments[:, 1])\n",
    "\n",
    "        # Non-negative overlap score\n",
    "        intersection = (tt2 - tt1).clip(0)\n",
    "        union = ((test_segments[:, 1] - test_segments[:, 0]) +\n",
    "                 (target_segments[i, 1] - target_segments[i, 0]) -\n",
    "                 intersection)\n",
    "        # Compute overlap as the ratio of the intersection\n",
    "        # over union of two segments at the frame level.\n",
    "        iou[i, :] = intersection / union\n",
    "    return iou\n",
    "\n",
    "def recall_vs_iou_thresholds(proposal_df, df, iou_threshold=np.array([0.5])):\n",
    "    vds = proposal_df['video-id'].unique()\n",
    "    score_lst = []\n",
    "    # Compute iou score\n",
    "    for i, v in enumerate(vds):\n",
    "        # Proposals\n",
    "        idx = proposal_df['video-id'] == v\n",
    "        this_df = proposal_df.loc[idx]\n",
    "        proposals = np.stack((this_df['s-init'], \n",
    "                              this_df['s-end']), axis=-1)\n",
    "\n",
    "        # Sort proposals\n",
    "        idx = this_df['score'].argsort()[::-1]\n",
    "        proposals = proposals[idx, :]\n",
    "\n",
    "        # Annotations\n",
    "        jdx = df['video-id'] == v\n",
    "        ann_df = df.loc[jdx]\n",
    "        annotations = np.stack((ann_df['s-init'],\n",
    "                                ann_df['s-end']), axis=-1)\n",
    "        if proposals.ndim == 1:\n",
    "            proposals = proposals[np.newaxis, :]\n",
    "        score_lst.append(segment_iou(annotations, proposals))\n",
    "        if not (i+1)%500:\n",
    "            print 'Scored videos: {}'.format(i+1)\n",
    "    matches = np.zeros((vds.shape[0], iou_threshold.shape[0]))\n",
    "    pos = np.zeros(vds.shape[0])\n",
    "    # Matching\n",
    "    recall = np.empty(iou_threshold.shape[0])\n",
    "    for cidx, this_iou in enumerate(iou_threshold):\n",
    "        # Score analysis per video.\n",
    "        for i, sc in enumerate(score_lst):\n",
    "            pos[i] = sc.shape[0] # Positives per video.\n",
    "            lmt = int(sc.shape[1])\n",
    "            matches[i, cidx] = ((sc[:, :lmt] >= this_iou).sum(axis=1) > 0).sum()\n",
    "        this_recall = matches[:, cidx].sum() / pos.sum()\n",
    "        recall[cidx] = this_recall\n",
    "    return recall"
   ]
  },
  {
   "cell_type": "markdown",
   "metadata": {
    "collapsed": false
   },
   "source": [
    "Lets compute the Recall at different Temporal IoU thresholds"
   ]
  },
  {
   "cell_type": "code",
   "execution_count": 6,
   "metadata": {
    "collapsed": false
   },
   "outputs": [
    {
     "name": "stdout",
     "output_type": "stream",
     "text": [
      "Scored videos: 500\n",
      "Scored videos: 1000\n",
      "Scored videos: 1500\n",
      "Scored videos: 2000\n",
      "Scored videos: 2500\n",
      "Scored videos: 3000\n",
      "Scored videos: 3500\n",
      "Scored videos: 4000\n",
      "Scored videos: 4500\n"
     ]
    },
    {
     "name": "stderr",
     "output_type": "stream",
     "text": [
      "/usr/lib/python2.7/site-packages/ipykernel/__main__.py:47: DeprecationWarning: using a non-integer number instead of an integer will result in an error in the future\n"
     ]
    }
   ],
   "source": [
    "iou_thrs = np.arange(0.1, 0.6, 0.1)\n",
    "recall = recall_vs_iou_thresholds(proposals_df, ground_truth_df, iou_threshold=iou_thrs)"
   ]
  },
  {
   "cell_type": "markdown",
   "metadata": {},
   "source": [
    "Recall vs Temporal IoU curve"
   ]
  },
  {
   "cell_type": "code",
   "execution_count": 7,
   "metadata": {
    "collapsed": false
   },
   "outputs": [
    {
     "data": {
      "image/png": "[encoded data removed]",
      "text/plain": [
       "<matplotlib.figure.Figure at 0x7f91bac95d10>"
      ]
     },
     "metadata": {},
     "output_type": "display_data"
    }
   ],
   "source": [
    "fn_size = 14\n",
    "plt.figure(num=None, figsize=(10, 5))\n",
    "plt.plot(iou_thrs, recall, linewidth=4, color=np.array([178,223,138])/255.0)\n",
    "plt.xlabel('Temporal IoU', fontsize=fn_size)\n",
    "plt.ylabel('Recall', fontsize=fn_size)\n",
    "plt.grid(b=True, which=\"both\")\n",
    "plt.setp(plt.axes().get_xticklabels(), fontsize=fn_size)\n",
    "plt.setp(plt.axes().get_yticklabels(), fontsize=fn_size)\n",
    "plt.xlim([0.1, 0.5])\n",
    "plt.show()"
   ]
  },
  {
   "cell_type": "code",
   "execution_count": null,
   "metadata": {
    "collapsed": true
   },
   "outputs": [],
   "source": []
  }
 ],
 "metadata": {
  "kernelspec": {
   "display_name": "Python 2",
   "language": "python",
   "name": "python2"
  },
  "language_info": {
   "codemirror_mode": {
    "name": "ipython",
    "version": 2
   },
   "file_extension": ".py",
   "mimetype": "text/x-python",
   "name": "python",
   "nbconvert_exporter": "python",
   "pygments_lexer": "ipython2",
   "version": "2.7.13"
  }
 },
 "nbformat": 4,
 "nbformat_minor": 0
}
